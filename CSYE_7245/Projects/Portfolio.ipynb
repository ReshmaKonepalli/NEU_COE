{
 "cells": [
  {
   "cell_type": "markdown",
   "metadata": {},
   "source": [
    "# Portfolio"
   ]
  },
  {
   "cell_type": "markdown",
   "metadata": {},
   "source": [
    "_Portfolio_  \n",
    "\n",
    "**Grading Rubric:**\n",
    "\n",
    "The following breakdown will be used for determining the score for the portfolio: \n",
    "\n",
    "| Assignment                                 | Points   |\n",
    "|--------------------------------------------|----------|\n",
    "| Did I explain my idea clearly?             |       10 |\n",
    "| Can a NEU COE student run your code?       |       20 |\n",
    "| Did I explain my evaluation clearly?       |       10 |\n",
    "| Did I explain my code clearly?             |       10 |\n",
    "| Did I explain my licensing clearly?        |       10 |\n",
    "| Did I explain my conclusion clearly?       |       10 |\n",
    "| Did I support my conclusion with data?     |       10 |\n",
    "| Is the scope enough for a semesters work?  |       20 |\n",
    "\n",
    "\n",
    "**licensing**\n",
    "\n",
    "The MIT license [https://opensource.org/licenses/MIT](https://opensource.org/licenses/MIT) is suggested for the code.  \n",
    "\n",
    "The Creative Commons Attribution 3.0 License [https://creativecommons.org/licenses/by/3.0/us/](https://creativecommons.org/licenses/by/3.0/us/)  is suggested for the writing.   \n",
    "\n",
    "\n",
    "**The portfolio MUST be in a jupyter notebook.**     \n"
   ]
  },
  {
   "cell_type": "markdown",
   "metadata": {},
   "source": [
    "Last update April 1, 2018"
   ]
  }
 ],
 "metadata": {
  "kernelspec": {
   "display_name": "Python 3",
   "language": "python",
   "name": "python3"
  },
  "language_info": {
   "codemirror_mode": {
    "name": "ipython",
    "version": 3
   },
   "file_extension": ".py",
   "mimetype": "text/x-python",
   "name": "python",
   "nbconvert_exporter": "python",
   "pygments_lexer": "ipython3",
   "version": "3.6.1"
  }
 },
 "nbformat": 4,
 "nbformat_minor": 2
}
